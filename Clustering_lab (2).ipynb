{
  "cells": [
    {
      "cell_type": "markdown",
      "metadata": {},
      "source": [
        "The goal of this Lab is to implement the clustering technique Kmeans as a Python class.\n",
        "\n",
        "To do it, follow the steps below.\n",
        "\n",
        "Meanwhile, we will test Kmeans implementation using a training population of employees.\n",
        "\n",
        "<b>Todo :</b> Replace <font color=red>#?</font> by an appropriate Python code"
      ]
    },
    {
      "cell_type": "markdown",
      "metadata": {
        "id": "RZE688fxoVxA"
      },
      "source": [
        "Step 1. Define a training dataset of employees"
      ]
    },
    {
      "cell_type": "code",
      "execution_count": null,
      "metadata": {
        "id": "ZNqbYnVqqCv-"
      },
      "outputs": [],
      "source": [
        "import numpy as np"
      ]
    },
    {
      "cell_type": "code",
      "execution_count": null,
      "metadata": {
        "id": "y9LorviaoTrM"
      },
      "outputs": [],
      "source": [
        "# Declare a numpy matrix denoted X\n",
        "# It represents a population of employees\n",
        "# The matrix rows are employees\n",
        "# The matrix columns are their properties : age and salary\n",
        "# The data of employees : (30,1300.5) , (48, 2500.7) , (25, 1100.5) , (45, 1900.75)\n",
        "X=np.array( [  [   30 , 1300.5 ] , [48, 2500.7  ]   ,  [ 25, 1100.5  ]    , [ 45, 1900.75  ]         ] )"
      ]
    },
    {
      "cell_type": "markdown",
      "metadata": {
        "id": "2BjjG_LfqGY2"
      },
      "source": [
        "Step 2. Define Kmeans hyperparameters"
      ]
    },
    {
      "cell_type": "code",
      "execution_count": 3,
      "metadata": {
        "id": "47kFHzcXrHww"
      },
      "outputs": [],
      "source": [
        "# Kmeans hyperparameters are defined as attributes\n",
        "# The most important hyperparameter of Kmeans is the number of clusters.\n",
        "# It is manually assigned.\n",
        "# It denoted k \n",
        "# It has 2 as default value\n",
        "# Complete the code\n",
        "class Kmeans :\n",
        "  def __init__(self, k=2):\n",
        "     self.k=k"
      ]
    },
    {
      "cell_type": "code",
      "execution_count": 4,
      "metadata": {},
      "outputs": [
        {
          "data": {
            "text/plain": [
              "2"
            ]
          },
          "execution_count": 4,
          "metadata": {},
          "output_type": "execute_result"
        }
      ],
      "source": [
        "# Run test\n",
        "km=Kmeans(k=2)\n",
        "km.k"
      ]
    },
    {
      "cell_type": "markdown",
      "metadata": {
        "id": "0IyaPzv1rUqf"
      },
      "source": [
        "Step 3. Define Kmeans model parameters"
      ]
    },
    {
      "cell_type": "code",
      "execution_count": 4,
      "metadata": {
        "id": "FXtqXpA9rXF7"
      },
      "outputs": [],
      "source": [
        "# Kmeans parameters are defined as attributes\n",
        "# Kmeans has one parameter : It is the cluster centers\n",
        "# It is denoted centers\n",
        "# It is assigned None value before learning process\n",
        "# Complete the code :\n",
        "class Kmeans :\n",
        "  def __init__(self, k=2):\n",
        "    self.k=k\n",
        "    self.centers=None"
      ]
    },
    {
      "cell_type": "code",
      "execution_count": 5,
      "metadata": {},
      "outputs": [],
      "source": [
        "# Run test\n",
        "km=Kmeans(k=2)\n",
        "km.centers"
      ]
    },
    {
      "cell_type": "markdown",
      "metadata": {
        "id": "1hz772-Cr9DW"
      },
      "source": [
        "Step 4. Define the learning process"
      ]
    },
    {
      "cell_type": "code",
      "execution_count": 10,
      "metadata": {},
      "outputs": [
        {
          "data": {
            "text/plain": [
              "[3, 0]"
            ]
          },
          "execution_count": 10,
          "metadata": {},
          "output_type": "execute_result"
        }
      ],
      "source": [
        "import random\n",
        "#choice function allows to draw one sample from a list random.choice([1,3,4])\n",
        "random.sample([0,1,2,3],2)\n",
        "#choice function allows to draw k  samples from a list random.choice([1,3,4])\n",
        "#x[[0,3],:] substract rows from x based on random "
      ]
    },
    {
      "cell_type": "code",
      "execution_count": null,
      "metadata": {
        "id": "T8OCO6afsAga"
      },
      "outputs": [],
      "source": [
        "# The learning process of Kmeans is implemented in fit() function\n",
        "# Define fit() function that :\n",
        "# - takes as input training data matrix X\n",
        "# - iteratively estimates the cluster centers\n",
        "# - returns the class object (self)\n",
        "class Kmeans :\n",
        "  def __init__(self, k=2):\n",
        "    self.k=k\n",
        "    self.centers=None\n",
        "  def fit(self, X):\n",
        "    indices_all_rows=list(range(x.shape[0]))\n",
        "    indices_drawer=random.sample(indices_all_rows,self.k)\n",
        "  self.centers=x[indices_drawer,:]\n",
        "    return self"
      ]
    },
    {
      "cell_type": "code",
      "execution_count": null,
      "metadata": {},
      "outputs": [],
      "source": [
        "# Run test\n",
        "km=Kmeans(k=2)\n",
        "km.fit(X)\n",
        "km.centers"
      ]
    },
    {
      "cell_type": "markdown",
      "metadata": {
        "id": "x2SouTeNsBCO"
      },
      "source": [
        "Step 5. Define the prediction process"
      ]
    },
    {
      "cell_type": "code",
      "execution_count": null,
      "metadata": {
        "id": "YrTE2xEJsC2P"
      },
      "outputs": [],
      "source": [
        "# The prediction process of Kmeans is implemented in predict() function\n",
        "# Define predict() function that :\n",
        "# - takes as input a employee vector x\n",
        "# - predicts the label of cluster (an integer) to which x belongs, ie it can be {0,1,..,k-1}\n",
        "# - returns the predicted label\n",
        "class Kmeans :\n",
        "  def __init__(self, k=2):\n",
        "    self.k=k\n",
        "    self.centers=None\n",
        "  def fit(self, X):\n",
        "    #?\n",
        "    return self\n",
        "  def predict(self,x):\n",
        "    dist_min= math.sqrt(( x.x - self.centers[1].x )**2 + ( x.y - self.centers[1].y  )**2 )\n",
        "    indice_min=1\n",
        "    for i in range (1,self.k)\n",
        "    distance = math.sqrt(( x.x - self.centers[i].x )**2 + ( x.y - self.centers[i].y  )**2 )\n",
        "    if( distance < dist_min) : \n",
        "      dist_min=distance\n",
        "      indice_min=k\n",
        "    return indice_mins"
      ]
    },
    {
      "cell_type": "code",
      "execution_count": null,
      "metadata": {},
      "outputs": [],
      "source": [
        "# Run test\n",
        "# predict which cluster a new employe x with age=29 and salary=1400 belongs to\n",
        "x=np.array([29,1400])\n",
        "km=Kmeans(k=2)\n",
        "km.fit(X)\n",
        "label=km.predict(x)\n",
        "label"
      ]
    }
  ],
  "metadata": {
    "colab": {
      "provenance": []
    },
    "kernelspec": {
      "display_name": "Python 3",
      "name": "python3"
    },
    "language_info": {
      "codemirror_mode": {
        "name": "ipython",
        "version": 3
      },
      "file_extension": ".py",
      "mimetype": "text/x-python",
      "name": "python",
      "nbconvert_exporter": "python",
      "pygments_lexer": "ipython3",
      "version": "3.11.0"
    }
  },
  "nbformat": 4,
  "nbformat_minor": 0
}
